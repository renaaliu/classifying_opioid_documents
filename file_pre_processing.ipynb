{
  "nbformat": 4,
  "nbformat_minor": 0,
  "metadata": {
    "colab": {
      "provenance": [],
      "collapsed_sections": [],
      "authorship_tag": "ABX9TyOVS01ndY573CJXXbq49wYU",
      "include_colab_link": true
    },
    "kernelspec": {
      "name": "python3",
      "display_name": "Python 3"
    },
    "language_info": {
      "name": "python"
    }
  },
  "cells": [
    {
      "cell_type": "markdown",
      "metadata": {
        "id": "view-in-github",
        "colab_type": "text"
      },
      "source": [
        "<a href=\"https://colab.research.google.com/github/renaaliu/classifying_opioid_documents/blob/main/file_pre_processing.ipynb\" target=\"_parent\"><img src=\"https://colab.research.google.com/assets/colab-badge.svg\" alt=\"Open In Colab\"/></a>"
      ]
    },
    {
      "cell_type": "code",
      "source": [
        "import numpy as np\n",
        "\n",
        "import pandas as pd\n",
        "\n",
        "!pip install transformers\n",
        "import transformers\n",
        "from sklearn.model_selection import train_test_split\n",
        "from transformers import DistilBertTokenizerFast"
      ],
      "metadata": {
        "id": "X75coYNsY_KJ"
      },
      "execution_count": null,
      "outputs": []
    },
    {
      "cell_type": "code",
      "source": [
        "from google.colab import drive\n",
        "# # Mount data from files on Google Colab, 'Liu 500 sample.xlsx' must be uploaded to the Disk before this\n",
        "drive.mount('/content/drive', force_remount=True)"
      ],
      "metadata": {
        "colab": {
          "base_uri": "https://localhost:8080/"
        },
        "id": "RP-7jFboDq4X",
        "outputId": "82fdcdb0-2eb0-437d-a3e2-0541ab656331"
      },
      "execution_count": null,
      "outputs": [
        {
          "output_type": "stream",
          "name": "stdout",
          "text": [
            "Mounted at /content/drive\n"
          ]
        }
      ]
    },
    {
      "cell_type": "code",
      "source": [
        "# Configure Libraries to Read Label Data\n",
        "file_name = '/content/Liu 500 sample.xlsx'\n",
        "labels_file = pd.read_excel(file_name)\n",
        "\n",
        "# Initialize possible labels/classification buckets from file \n",
        "file_id_list = labels_file['id'].tolist()"
      ],
      "metadata": {
        "id": "ZIb3i-RwY2mT"
      },
      "execution_count": null,
      "outputs": []
    },
    {
      "cell_type": "code",
      "source": [
        "tokenizer = DistilBertTokenizerFast.from_pretrained('distilbert-base-uncased')\n",
        "\n",
        "path_header = '/content/drive/MyDrive/500_samples/'\n",
        "\n",
        "dataset = []\n",
        "\n",
        "f = ['ffck0235']\n",
        "\n",
        "# Iterate through Liu 500 Sample Excel\n",
        "for index, row in labels_file.iterrows():\n",
        "  id = row['id']\n",
        "  label = row['Doc Type 1']\n",
        "# for i in f:\n",
        "#   id = i\n",
        "#   label = 9\n",
        "  # Get and encode file\n",
        "  path = path_header + id + '/' + id + '.ocr'\n",
        "  ocr_file = open(path)\n",
        "  text = ocr_file.read()\n",
        "  # Replace line breaks in the text.\n",
        "  text = text.replace(\"\\r\", \" \").replace(\"\\n\", \" \")\n",
        "\n",
        "  encoding = tokenizer(text, truncation=True, padding=True)\n",
        "  input_ids = encoding['input_ids']\n",
        "  attention_masks = encoding['attention_mask']\n",
        "  dataset.append([input_ids, attention_masks, label])\n",
        "\n",
        "dataset = pd.DataFrame(dataset, columns = ['Encoding_input_id','Encoding_attention_mask','Label'])\n",
        "indexed_labels_dataset = pd.factorize(dataset['Label'])[0]\n",
        "dataset['Label'] = indexed_labels_dataset\n",
        "print(dataset)\n",
        "# print(dataset['Encoding_attention_mask'][0][0])\n",
        "\n",
        "# dataset.to_csv('encoded_labeled_ocrs.csv',index=False)"
      ],
      "metadata": {
        "id": "JjLaDM5lrLAq"
      },
      "execution_count": null,
      "outputs": []
    },
    {
      "cell_type": "code",
      "source": [
        "# dataset.to_csv('/content/encoded_labeled_ocrs.csv',index=False)"
      ],
      "metadata": {
        "id": "ViGyBQPHf5Vz"
      },
      "execution_count": null,
      "outputs": []
    }
  ]
}