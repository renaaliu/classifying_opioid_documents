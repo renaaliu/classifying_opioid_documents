{
  "nbformat": 4,
  "nbformat_minor": 0,
  "metadata": {
    "colab": {
      "provenance": [],
      "collapsed_sections": [
        "HcrynrRCapvN",
        "l_u0GobS2Di4",
        "BNMlOJCo2GyL",
        "SDgHCQ6Ra2sO"
      ],
      "include_colab_link": true
    },
    "kernelspec": {
      "name": "python3",
      "display_name": "Python 3"
    },
    "language_info": {
      "name": "python"
    }
  },
  "cells": [
    {
      "cell_type": "markdown",
      "metadata": {
        "id": "view-in-github",
        "colab_type": "text"
      },
      "source": [
        "<a href=\"https://colab.research.google.com/github/renaaliu/classifying_opioid_documents/blob/main/held_out_test_v5_title_classification_model.ipynb\" target=\"_parent\"><img src=\"https://colab.research.google.com/assets/colab-badge.svg\" alt=\"Open In Colab\"/></a>"
      ]
    },
    {
      "cell_type": "markdown",
      "source": [
        "## Set up\n",
        "This imports all the libraries and packages (torch, numpy, pandas, etc.)"
      ],
      "metadata": {
        "id": "HcrynrRCapvN"
      }
    },
    {
      "cell_type": "code",
      "source": [
        "import tensorflow as tf\n",
        "from sklearn.metrics import confusion_matrix, accuracy_score, roc_auc_score, f1_score, average_precision_score, recall_score"
      ],
      "metadata": {
        "id": "X6-NQMu8zpF4"
      },
      "execution_count": null,
      "outputs": []
    },
    {
      "cell_type": "code",
      "execution_count": null,
      "metadata": {
        "id": "dIlIYCCs1DtO"
      },
      "outputs": [],
      "source": [
        "import torch\n",
        "import torchvision\n",
        "import torchvision.transforms as transforms\n",
        "\n",
        "import numpy as np\n",
        "\n",
        "from numpy import genfromtxt\n",
        "\n",
        "import matplotlib.pyplot as plt\n",
        "\n",
        "import pandas as pd"
      ]
    },
    {
      "cell_type": "code",
      "source": [
        "# Configure HuggingFace\n",
        "!pip install transformers\n",
        "\n",
        "import transformers\n",
        "# from transformers import pipeline\n",
        "\n",
        "# !pip install transformers[sentencepiece]\n",
        "\n",
        "import torch.nn as nn\n",
        "import torch.nn.functional as F\n",
        "\n",
        "from sklearn.model_selection import train_test_split\n",
        "from transformers import DistilBertTokenizerFast\n",
        "\n",
        "import torch.optim as optim\n",
        "\n",
        "from torch.utils.data import DataLoader\n",
        "from transformers import DistilBertForSequenceClassification, AdamW"
      ],
      "metadata": {
        "id": "Cs-trdyH6k5N",
        "colab": {
          "base_uri": "https://localhost:8080/"
        },
        "outputId": "9ef3f235-9e22-422c-da1a-a55b39ffb559"
      },
      "execution_count": null,
      "outputs": [
        {
          "output_type": "stream",
          "name": "stdout",
          "text": [
            "Looking in indexes: https://pypi.org/simple, https://us-python.pkg.dev/colab-wheels/public/simple/\n",
            "Requirement already satisfied: transformers in /usr/local/lib/python3.7/dist-packages (4.21.3)\n",
            "Requirement already satisfied: pyyaml>=5.1 in /usr/local/lib/python3.7/dist-packages (from transformers) (6.0)\n",
            "Requirement already satisfied: packaging>=20.0 in /usr/local/lib/python3.7/dist-packages (from transformers) (21.3)\n",
            "Requirement already satisfied: tokenizers!=0.11.3,<0.13,>=0.11.1 in /usr/local/lib/python3.7/dist-packages (from transformers) (0.12.1)\n",
            "Requirement already satisfied: numpy>=1.17 in /usr/local/lib/python3.7/dist-packages (from transformers) (1.21.6)\n",
            "Requirement already satisfied: huggingface-hub<1.0,>=0.1.0 in /usr/local/lib/python3.7/dist-packages (from transformers) (0.9.1)\n",
            "Requirement already satisfied: filelock in /usr/local/lib/python3.7/dist-packages (from transformers) (3.8.0)\n",
            "Requirement already satisfied: importlib-metadata in /usr/local/lib/python3.7/dist-packages (from transformers) (4.12.0)\n",
            "Requirement already satisfied: regex!=2019.12.17 in /usr/local/lib/python3.7/dist-packages (from transformers) (2022.6.2)\n",
            "Requirement already satisfied: tqdm>=4.27 in /usr/local/lib/python3.7/dist-packages (from transformers) (4.64.1)\n",
            "Requirement already satisfied: requests in /usr/local/lib/python3.7/dist-packages (from transformers) (2.23.0)\n",
            "Requirement already satisfied: typing-extensions>=3.7.4.3 in /usr/local/lib/python3.7/dist-packages (from huggingface-hub<1.0,>=0.1.0->transformers) (4.1.1)\n",
            "Requirement already satisfied: pyparsing!=3.0.5,>=2.0.2 in /usr/local/lib/python3.7/dist-packages (from packaging>=20.0->transformers) (3.0.9)\n",
            "Requirement already satisfied: zipp>=0.5 in /usr/local/lib/python3.7/dist-packages (from importlib-metadata->transformers) (3.8.1)\n",
            "Requirement already satisfied: idna<3,>=2.5 in /usr/local/lib/python3.7/dist-packages (from requests->transformers) (2.10)\n",
            "Requirement already satisfied: urllib3!=1.25.0,!=1.25.1,<1.26,>=1.21.1 in /usr/local/lib/python3.7/dist-packages (from requests->transformers) (1.24.3)\n",
            "Requirement already satisfied: chardet<4,>=3.0.2 in /usr/local/lib/python3.7/dist-packages (from requests->transformers) (3.0.4)\n",
            "Requirement already satisfied: certifi>=2017.4.17 in /usr/local/lib/python3.7/dist-packages (from requests->transformers) (2022.6.15)\n"
          ]
        }
      ]
    },
    {
      "cell_type": "markdown",
      "source": [
        "## Input: Format and Encode "
      ],
      "metadata": {
        "id": "xsAzo-LT2LSw"
      }
    },
    {
      "cell_type": "markdown",
      "source": [
        "#### Label Pre-processing\n",
        "This pulls and opens the encoded_labeled_ocrs.csv (creation explained above) which holds the encoded file samples (input_ids and attention_mask) and corresponding numerical document type labels. The data within this file is then converted into arrays of Floats. The input_ids and labels are then formatted and batched."
      ],
      "metadata": {
        "id": "iXvlUsI5cuh8"
      }
    },
    {
      "cell_type": "code",
      "source": [
        "# STEP 1: Uploaded encoded_labeled_ocrs.csv document (created using file_pre_processing.ipynb)\n",
        "csv_path = '/content/encoded_labeled_ocrs.csv'\n",
        "csv_data = pd.read_csv(csv_path)"
      ],
      "metadata": {
        "id": "jWuvOkbZ7OHK"
      },
      "execution_count": null,
      "outputs": []
    },
    {
      "cell_type": "code",
      "source": [
        "# The data within this file is then converted into arrays of Floats.\n",
        "input_ids_col = []\n",
        "attention_mask_col = []\n",
        "new_labels = []\n",
        "new_encodings = {}\n",
        "input_len = 512\n",
        "for index, row in csv_data.iterrows():\n",
        "    # Manually converts string of '[x, y, z]' to float array [x, y, z] where x,y,z are floats\n",
        "    input_ids = row['Encoding_input_id'][1:]\n",
        "    input_ids = input_ids[:-1]\n",
        "    input_ids = input_ids.split(', ')\n",
        "    # converts from string to float\n",
        "    input_ids = np.array([float(entity) for entity in input_ids])\n",
        "    if len(input_ids) < input_len:\n",
        "      for i in range(input_len - len(input_ids)):\n",
        "        input_ids = np.pad(input_ids, [(0, 1)])\n",
        "\n",
        "    attention_masks = row['Encoding_attention_mask'][1:]\n",
        "    attention_masks = attention_masks[:-1]\n",
        "    attention_masks = attention_masks.split(', ')\n",
        "    attention_masks = np.array([float(entity) for entity in attention_masks])\n",
        "    if len(attention_masks) < input_len:\n",
        "      for i in range(input_len - len(attention_masks)):\n",
        "        attention_masks = np.pad(attention_masks, [(0, 1)])\n",
        "\n",
        "    ## Create arrays: dataset where each row is [id, mask, label], \n",
        "    ## input_ids_col where each row is id,\n",
        "    ## attention_mask_col where each row is attention_mask,\n",
        "    ## train_labels where each row is a label\n",
        "    \n",
        "    ## Top modes are 10, 19, 12, 23, 7\n",
        "    ## if row['Label'] == 10 or row['Label'] == 19 or row['Label'] == 12 or row['Label'] == 23 or row['Label'] == 7:\n",
        "    if row['Label'] == 19:\n",
        "      row['Label'] = 1\n",
        "    else:\n",
        "      row['Label'] = 0\n",
        "    \n",
        "    input_ids_col.append(input_ids)\n",
        "    attention_mask_col.append(attention_masks)\n",
        "    new_labels.append(row['Label'])"
      ],
      "metadata": {
        "id": "_Bre_uBfOQdA"
      },
      "execution_count": null,
      "outputs": []
    },
    {
      "cell_type": "code",
      "source": [
        "dataset = {}\n",
        "dataset['input_ids'] = input_ids_col\n",
        "dataset.update({'attention_mask': attention_mask_col})\n",
        "dataset.update({'labels': new_labels})\n",
        "dataset = pd.DataFrame(dataset)"
      ],
      "metadata": {
        "id": "jU_xp5BLXwpj"
      },
      "execution_count": null,
      "outputs": []
    },
    {
      "cell_type": "code",
      "source": [
        "# Splitting into Train and Test\n",
        "k_proportion_of_test_set = 0.8\n",
        "\n",
        "train_rows = dataset.sample(frac=k_proportion_of_test_set, random_state=25)\n",
        "test_rows = dataset.drop(train_rows.index)"
      ],
      "metadata": {
        "id": "6drzkjNu75Bk"
      },
      "execution_count": null,
      "outputs": []
    },
    {
      "cell_type": "code",
      "source": [
        "train_encodings = {}\n",
        "train_encodings['input_ids'] = train_rows['input_ids'].tolist()\n",
        "train_encodings.update({'attention_mask': train_rows['attention_mask'].tolist()})\n",
        "train_labels = train_rows['labels'].tolist()\n",
        "\n",
        "test_encodings = {}\n",
        "test_encodings['input_ids'] = test_rows['input_ids'].tolist()\n",
        "test_encodings.update({'attention_mask': test_rows['attention_mask'].tolist()})\n",
        "test_labels = test_rows['labels'].tolist()"
      ],
      "metadata": {
        "id": "rOTZ-EJiYG4V"
      },
      "execution_count": null,
      "outputs": []
    },
    {
      "cell_type": "code",
      "source": [
        "# The input_ids and labels are then formatted and batched.\n",
        "class EncodedFilesDataset(torch.utils.data.Dataset):\n",
        "    def __init__(self, encodings, labels):\n",
        "        self.encodings = encodings\n",
        "        self.labels = labels\n",
        "\n",
        "    def __getitem__(self, idx):\n",
        "        item = {key: torch.tensor(val[idx]) for key, val in self.encodings.items()}\n",
        "        item['labels'] = torch.tensor(self.labels[idx])\n",
        "        return item\n",
        "\n",
        "    def __len__(self):\n",
        "        return len(self.labels)\n",
        "\n",
        "train_dataset = EncodedFilesDataset(train_encodings, train_labels)\n",
        "train_loader = DataLoader(train_dataset, batch_size=100, shuffle=True)\n",
        "test_dataset = EncodedFilesDataset(test_encodings, test_labels)\n",
        "test_loader = DataLoader(test_dataset, batch_size=10, shuffle=True)\n",
        "# test_loader = DataLoader(test_dataset, batch_size = 5)"
      ],
      "metadata": {
        "id": "-elmIH5vF9rV"
      },
      "execution_count": null,
      "outputs": []
    },
    {
      "cell_type": "markdown",
      "source": [
        "#####Plotting Label Distribution"
      ],
      "metadata": {
        "id": "AB-0ysg-Zwlj"
      }
    },
    {
      "cell_type": "code",
      "source": [
        "# # Plot of Disitrubtion of Labels in Training\n",
        "data = train_labels\n",
        "bins = np.arange(0, 60, 1) # fixed bin size\n",
        "\n",
        "plt.xlim([min(data)-3, max(data)+3])\n",
        "\n",
        "plt.hist(data, bins=bins)\n",
        "plt.title('Distribution of Labels in Training')\n",
        "plt.xlabel('Index of a Doc Label')\n",
        "plt.ylabel('count')\n",
        "\n",
        "plt.show()\n",
        "\n",
        "print('(idx == 1)/total:',data.count(1)/len(data))\n",
        "print('(idx == 0)/total:',data.count(0)/len(data))"
      ],
      "metadata": {
        "id": "2cN6Tou3-cwQ",
        "colab": {
          "base_uri": "https://localhost:8080/",
          "height": 349
        },
        "outputId": "ff98be4c-4e29-4fbc-b489-9f351b74bf7e"
      },
      "execution_count": null,
      "outputs": [
        {
          "output_type": "display_data",
          "data": {
            "text/plain": [
              "<Figure size 432x288 with 1 Axes>"
            ],
            "image/png": "[encoded data removed]"
          },
          "metadata": {
            "needs_background": "light"
          }
        },
        {
          "output_type": "stream",
          "name": "stdout",
          "text": [
            "(idx == 1)/total: 0.0825\n",
            "(idx == 0)/total: 0.9175\n"
          ]
        }
      ]
    },
    {
      "cell_type": "code",
      "source": [
        "# # Plot of Disitrubtion of Labels in Testing\n",
        "data = test_labels\n",
        "bins = np.arange(0, 60, 1) # fixed bin size\n",
        "\n",
        "plt.xlim([min(data)-3, max(data)+3])\n",
        "\n",
        "plt.hist(data, bins=bins)\n",
        "plt.title('Distribution of Labels in Testing')\n",
        "plt.xlabel('Index of a Doc Label')\n",
        "plt.ylabel('count')\n",
        "\n",
        "plt.show()\n",
        "\n",
        "print('(idx == 1)/total:',data.count(1)/len(data))\n",
        "print('(idx == 0)/total:',data.count(0)/len(data))"
      ],
      "metadata": {
        "colab": {
          "base_uri": "https://localhost:8080/",
          "height": 349
        },
        "id": "39Tv4nXebFnC",
        "outputId": "2d0fc423-7378-4782-9c47-d466528af5fb"
      },
      "execution_count": null,
      "outputs": [
        {
          "output_type": "display_data",
          "data": {
            "text/plain": [
              "<Figure size 432x288 with 1 Axes>"
            ],
            "image/png": "[encoded data removed]"
          },
          "metadata": {
            "needs_background": "light"
          }
        },
        {
          "output_type": "stream",
          "name": "stdout",
          "text": [
            "(idx == 1)/total: 0.04\n",
            "(idx == 0)/total: 0.96\n"
          ]
        }
      ]
    },
    {
      "cell_type": "markdown",
      "source": [
        "## Defining the linear NN\n",
        "This section defines the Net class for the neural network. This is based on a Pytorch tutorial and many lines are commented out but kept to give context of the possibilities of nonlinear and otherwise more complicated models."
      ],
      "metadata": {
        "id": "l_u0GobS2Di4"
      }
    },
    {
      "cell_type": "code",
      "source": [
        "class Net(nn.Module):\n",
        "    def __init__(self):\n",
        "        super().__init__()\n",
        "        # # self.conv1 = nn.Conv2d(3, 6, 5)\n",
        "        # # self.pool = nn.MaxPool2d(2, 2)\n",
        "        # # self.conv2 = nn.Conv2d(6, 16, 5)\n",
        "        # self.fc1 = nn.Linear(3, 120)\n",
        "        # self.fc2 = nn.Linear(120, 84)\n",
        "        # # self.fc3 = nn.Linear(84, 8)\n",
        "        # self.fc3 = nn.Linear(84, 3)\n",
        "\n",
        "        # self.fc1 = nn.Linear(3, 60)\n",
        "        # self.fc2 = nn.Linear(60, 42)\n",
        "        # self.fc3 = nn.Linear(42, 3)\n",
        "\n",
        "        ### self.fc1 = nn.Linear(512, 120)\n",
        "        self.fc1 = nn.Linear(512, 480)\n",
        "        # self.fc1 = nn.Linear(train_tokenizer_output_size, 120)\n",
        "        ### self.fc2 = nn.Linear(120, 84)\n",
        "        self.fc2 = nn.Linear(480, 336)\n",
        "        ### self.fc3 = nn.Linear(84, 57)\n",
        "        self.fc3 = nn.Linear(336, 57)\n",
        "        # self.fc3 = nn.Linear(84, 3)\n",
        "\n",
        "        # self.dropout = nn.Dropout(0.25)\n",
        "        # self.bn = torch.nn.BatchNorm2d(32)\n",
        "\n",
        "    def forward(self, x):\n",
        "        # x = self.pool(F.relu(self.conv1(x)))\n",
        "        # x = self.pool(F.relu(self.conv2(x)))\n",
        "        # x = torch.flatten(x, 1) # flatten all dimensions except batch\n",
        "        # print(x)\n",
        "        a = self.fc1(x)\n",
        "        x = F.relu(a)\n",
        "        # x = F.relu(self.fc1(x))\n",
        "        x = F.relu(self.fc2(x))\n",
        "        x = self.fc3(x)\n",
        "        return x\n",
        "\n",
        "\n",
        "net = Net()"
      ],
      "metadata": {
        "id": "-7cZLnie1c4m"
      },
      "execution_count": null,
      "outputs": []
    },
    {
      "cell_type": "markdown",
      "source": [
        "## Define a Loss function and optimize\n",
        "This section sets the loss to be Cross Entropy Loss and the optimizer to be from Adam."
      ],
      "metadata": {
        "id": "BNMlOJCo2GyL"
      }
    },
    {
      "cell_type": "code",
      "source": [
        "criterion = nn.CrossEntropyLoss()\n",
        "# optimizer = optim.SGD(net.parameters(), lr=0.1, momentum=0.9)\n",
        "optimizer = AdamW(net.parameters(), lr=5e-3)\n",
        "# optimizer = AdamW(net.parameters(), lr=5e-30)"
      ],
      "metadata": {
        "id": "zeU3V-rj1slm",
        "colab": {
          "base_uri": "https://localhost:8080/"
        },
        "outputId": "104c9833-9ecc-47af-f67b-2a201ae7aad3"
      },
      "execution_count": null,
      "outputs": [
        {
          "output_type": "stream",
          "name": "stderr",
          "text": [
            "/usr/local/lib/python3.7/dist-packages/transformers/optimization.py:310: FutureWarning: This implementation of AdamW is deprecated and will be removed in a future version. Use the PyTorch implementation torch.optim.AdamW instead, or set `no_deprecation_warning=True` to disable this warning\n",
            "  FutureWarning,\n"
          ]
        }
      ]
    },
    {
      "cell_type": "markdown",
      "source": [
        "## Train Network\n",
        "https://androidkt.com/calculate-total-loss-and-accuracy-at-every-epoch-and-plot-using-matplotlib-in-pytorch/"
      ],
      "metadata": {
        "id": "SDgHCQ6Ra2sO"
      }
    },
    {
      "cell_type": "code",
      "source": [
        "device = torch.device('cuda') if torch.cuda.is_available() else torch.device('cpu')\n",
        "\n",
        "# For computing accuracy\n",
        "# https://androidkt.com/calculate-total-loss-and-accuracy-at-every-epoch-and-plot-using-matplotlib-in-pytorch/\n",
        "train_correct, train_total = 0, 0\n",
        "train_losses = []\n",
        "train_accu = []\n",
        "\n",
        "epochs = range(100)\n",
        "running_loss = []\n",
        "\n",
        "for epoch in epochs:\n",
        "    for train_batch in train_loader:\n",
        "        input_ids = train_batch['input_ids'].to(device)\n",
        "        inputs = torch.tensor(input_ids)\n",
        "        # attention_mask = batch['attention_mask'].to(device)\n",
        "        labels = train_batch['labels'].to(device)\n",
        "\n",
        "        # zero the parameter gradients\n",
        "        optimizer.zero_grad()\n",
        "\n",
        "        # outputs is the NN model\n",
        "        outputs = net(inputs.type(torch.float32))\n",
        "        loss = criterion(outputs, labels)\n",
        "        loss.backward()\n",
        "        optimizer.step()\n",
        "\n",
        "        # Compute Accuracy            \n",
        "        _, predicted = outputs.max(1)\n",
        "        train_total += labels.size(0)\n",
        "        train_correct += predicted.eq(labels).sum().item()\n",
        "              \n",
        "        # train_loss = running_loss/len(train_loader)\n",
        "        accu = 100.*train_correct/train_total\n",
        "        \n",
        "        # create and append to list of accuracies and loss\n",
        "        train_accu.append(accu)\n",
        "        running_loss.append(loss.detach())\n",
        "\n",
        "        # # Print Prediction, True Label, Loss & Accuracy per Epoch\n",
        "        # print(\"Prediction\", predicted)\n",
        "        # print(\"True Label\", labels)\n",
        "        # print('Train Loss: %.3f | Accuracy: %.3f'%(loss,accu))\n",
        "        # print()"
      ],
      "metadata": {
        "colab": {
          "base_uri": "https://localhost:8080/"
        },
        "id": "DbsYZhQLE0Ea",
        "outputId": "c7cf049a-2051-42dd-b807-dc34ac5efae4"
      },
      "execution_count": null,
      "outputs": [
        {
          "output_type": "stream",
          "name": "stderr",
          "text": [
            "/usr/local/lib/python3.7/dist-packages/ipykernel_launcher.py:15: UserWarning: To copy construct from a tensor, it is recommended to use sourceTensor.clone().detach() or sourceTensor.clone().detach().requires_grad_(True), rather than torch.tensor(sourceTensor).\n",
            "  from ipykernel import kernelapp as app\n"
          ]
        }
      ]
    },
    {
      "cell_type": "markdown",
      "source": [
        "## Evaluation Metrics"
      ],
      "metadata": {
        "id": "6TjwCbWODIUb"
      }
    },
    {
      "cell_type": "code",
      "source": [
        "def tf_count(t, val):\n",
        "    elements_equal_to_value = tf.equal(t, val)\n",
        "    as_ints = tf.cast(elements_equal_to_value, tf.int32)\n",
        "    count = tf.reduce_sum(as_ints)\n",
        "    return count"
      ],
      "metadata": {
        "id": "TVgKhTBuzVad"
      },
      "execution_count": null,
      "outputs": []
    },
    {
      "cell_type": "code",
      "source": [
        "# Graph Loss per Epoch\n",
        "# print(running_loss)\n",
        "plt.plot(range(len(epochs)*len(train_loader)), running_loss, 'g', label='Training loss')\n",
        "#plt.plot(epochs, loss_val, 'b', label='validation loss')\n",
        "plt.title('Training Loss per Epoch')\n",
        "plt.xlabel('Epochs')\n",
        "plt.ylabel('Loss')\n",
        "plt.legend()\n",
        "plt.show()\n",
        "print(\"Final Loss:\", running_loss[-1])\n",
        "\n",
        "# Graph Train Acc per Epoch\n",
        "plt.plot(range(len(epochs)*len(train_loader)), train_accu, 'g', label='Training Accuracy')\n",
        "#plt.plot(epochs, loss_val, 'b', label='validation loss')\n",
        "plt.title('Training Accuracy per Epoch')\n",
        "plt.xlabel('Epochs')\n",
        "plt.ylabel('Accuracy')\n",
        "plt.legend()\n",
        "plt.show()\n",
        "print(\"Final Accuracy:\", train_accu[-1])\n",
        "\n",
        "# Graph Test Accuracy per Epoch\n",
        "# plt.plot(range(len(epochs)*len(test_loader)), test_accu_array, 'g', label='Test Accuracy')\n",
        "# plt.title('Test Accuracy')\n",
        "# plt.xlabel('Epochs')\n",
        "# plt.ylabel('Accuracy')\n",
        "# plt.legend()\n",
        "# plt.show()\n",
        "\n",
        "# Plot distribution of predictions\n",
        "data = predicted\n",
        "bins = np.arange(0, 60, 1) # fixed bin size\n",
        "plt.hist(data, bins=bins)\n",
        "plt.title('Distribution of Predicted Labels')\n",
        "plt.xlabel('Index of a Doc Label')\n",
        "plt.ylabel('count')\n",
        "plt.show()\n",
        "print('Prediction Class Distribution')\n",
        "print('(idx == 1)/100:',tf_count(data,1)/len(data))\n",
        "print('(idx == 0)/100:',tf_count(data,0)/len(data))\n",
        "\n",
        "net.eval()"
      ],
      "metadata": {
        "colab": {
          "base_uri": "https://localhost:8080/",
          "height": 1000
        },
        "id": "M5LrbM9dy3ST",
        "outputId": "158183e5-c0ce-4577-9fd5-97c12feb06b2"
      },
      "execution_count": null,
      "outputs": [
        {
          "output_type": "display_data",
          "data": {
            "text/plain": [
              "<Figure size 432x288 with 1 Axes>"
            ],
            "image/png": "[encoded data removed]"
          },
          "metadata": {
            "needs_background": "light"
          }
        },
        {
          "output_type": "stream",
          "name": "stdout",
          "text": [
            "Final Loss: tensor(0.2489)\n"
          ]
        },
        {
          "output_type": "display_data",
          "data": {
            "text/plain": [
              "<Figure size 432x288 with 1 Axes>"
            ],
            "image/png": "[encoded data removed]"
          },
          "metadata": {
            "needs_background": "light"
          }
        },
        {
          "output_type": "stream",
          "name": "stdout",
          "text": [
            "Final Accuracy: 91.6275\n"
          ]
        },
        {
          "output_type": "display_data",
          "data": {
            "text/plain": [
              "<Figure size 432x288 with 1 Axes>"
            ],
            "image/png": "[encoded data removed]"
          },
          "metadata": {
            "needs_background": "light"
          }
        },
        {
          "output_type": "stream",
          "name": "stdout",
          "text": [
            "Prediction Class Distribution\n",
            "(idx == 1)/100: tf.Tensor(0.0, shape=(), dtype=float64)\n",
            "(idx == 0)/100: tf.Tensor(1.0, shape=(), dtype=float64)\n"
          ]
        },
        {
          "output_type": "execute_result",
          "data": {
            "text/plain": [
              "Net(\n",
              "  (fc1): Linear(in_features=512, out_features=480, bias=True)\n",
              "  (fc2): Linear(in_features=480, out_features=336, bias=True)\n",
              "  (fc3): Linear(in_features=336, out_features=57, bias=True)\n",
              ")"
            ]
          },
          "metadata": {},
          "execution_count": 40
        }
      ]
    },
    {
      "cell_type": "markdown",
      "source": [
        "### ROC Area Under the Curve and F1 Score"
      ],
      "metadata": {
        "id": "aCFcQBPbqix0"
      }
    },
    {
      "cell_type": "code",
      "source": [
        "y_true = labels\n",
        "y_pred = predicted\n",
        "print('ScikitLearn Accuracy', accuracy_score(y_true, y_pred))\n",
        "print('F1 Score', f1_score(y_true, y_pred))\n",
        "print('ROC AUC', roc_auc_score(y_true, y_pred))\n",
        "print('Precision', average_precision_score(y_true, y_pred))\n",
        "print('Recall', recall_score(y_true, y_pred))"
      ],
      "metadata": {
        "colab": {
          "base_uri": "https://localhost:8080/"
        },
        "id": "jleZFoFAEomO",
        "outputId": "14a56fa8-b8b0-419d-d004-4901b4612c04"
      },
      "execution_count": null,
      "outputs": [
        {
          "output_type": "stream",
          "name": "stdout",
          "text": [
            "ScikitLearn Accuracy 0.9\n",
            "F1 Score 0.0\n",
            "ROC AUC 0.5\n",
            "Precision 0.1\n",
            "Recall 0.0\n"
          ]
        }
      ]
    },
    {
      "cell_type": "markdown",
      "source": [
        "### Held out testing \n",
        "https://github.com/christianversloot/machine-learning-articles/blob/main/how-to-use-k-fold-cross-validation-with-pytorch.md "
      ],
      "metadata": {
        "id": "Pp1mz6qEDN_M"
      }
    },
    {
      "cell_type": "code",
      "source": [
        "correct, total = 0, 0\n",
        "test_accu = []\n",
        "\n",
        "epochs = range(30)\n",
        "running_loss = []\n",
        "\n",
        "for epoch in epochs:\n",
        "    for batch in test_loader:\n",
        "        input_ids = batch['input_ids'].to(device)\n",
        "        inputs = torch.tensor(input_ids)\n",
        "        labels = batch['labels'].to(device)\n",
        "\n",
        "        # Generate outputs\n",
        "        outputs = net(inputs.type(torch.float32))\n",
        "\n",
        "        # Set total and correct\n",
        "        _, predicted = outputs.max(1)\n",
        "        total += labels.size(0)\n",
        "        # correct += (predicted == labels).sum().item()\n",
        "        correct += predicted.eq(labels).sum().item()\n",
        "\n",
        "        loss = criterion(outputs, labels)\n",
        "        running_loss.append(loss.detach())\n",
        "\n",
        "        accu = 100.*correct/total\n",
        "        test_accu.append(accu)\n",
        "\n",
        "        # # Print Prediction, True Label, Loss & Accuracy per Epoch\n",
        "        # print(\"Prediction\", predicted)\n",
        "        # print(\"True Label\", labels)\n",
        "        # print('Train Loss: %.3f | Accuracy: %.3f'%(loss,accu))\n",
        "        # print()"
      ],
      "metadata": {
        "id": "8KBIfoXnGJxH",
        "colab": {
          "base_uri": "https://localhost:8080/"
        },
        "outputId": "83b249a1-0d1c-4d65-861d-315b0c31d891"
      },
      "execution_count": null,
      "outputs": [
        {
          "output_type": "stream",
          "name": "stderr",
          "text": [
            "/usr/local/lib/python3.7/dist-packages/ipykernel_launcher.py:10: UserWarning: To copy construct from a tensor, it is recommended to use sourceTensor.clone().detach() or sourceTensor.clone().detach().requires_grad_(True), rather than torch.tensor(sourceTensor).\n",
            "  # Remove the CWD from sys.path while we load stuff.\n"
          ]
        }
      ]
    },
    {
      "cell_type": "code",
      "source": [
        "# Graph Loss per Epoch\n",
        "# print(running_loss)\n",
        "plt.plot(range(len(epochs)*len(test_loader)), running_loss, 'g', label='Testing loss')\n",
        "#plt.plot(epochs, loss_val, 'b', label='validation loss')\n",
        "plt.title('Testing Loss per Epoch')\n",
        "plt.xlabel('Epochs')\n",
        "plt.ylabel('Loss')\n",
        "plt.legend()\n",
        "plt.show()\n",
        "print(\"Final Loss:\", running_loss[-1])\n",
        "\n",
        "# Graph Testing Acc per Epoch\n",
        "plt.plot(range(len(epochs)*len(test_loader)), test_accu, 'g', label='Testing Accuracy')\n",
        "#plt.plot(epochs, loss_val, 'b', label='validation loss')\n",
        "plt.title('Testing Accuracy per Epoch')\n",
        "plt.xlabel('Epochs')\n",
        "plt.ylabel('Accuracy')\n",
        "plt.legend()\n",
        "plt.show()\n",
        "print(\"Final Accuracy:\", test_accu[-1])\n",
        "\n",
        "# # Plot distribution of predictions\n",
        "data = predicted\n",
        "bins = np.arange(0, 60, 1) # fixed bin size\n",
        "plt.hist(data, bins=bins)\n",
        "plt.title('Distribution of Predicted Labels')\n",
        "plt.xlabel('Index of a Doc Label')\n",
        "plt.ylabel('count')\n",
        "plt.show()\n",
        "print('Prediction Class Distribution')\n",
        "print('(idx == 1)/100:',tf_count(data,1)/len(data))\n",
        "print('(idx == 0)/100:',tf_count(data,0)/len(data))"
      ],
      "metadata": {
        "colab": {
          "base_uri": "https://localhost:8080/",
          "height": 955
        },
        "id": "Gh1-jYEldESe",
        "outputId": "c51923b6-62bf-4ac9-9e9c-0435af4106e3"
      },
      "execution_count": null,
      "outputs": [
        {
          "output_type": "display_data",
          "data": {
            "text/plain": [
              "<Figure size 432x288 with 1 Axes>"
            ],
            "image/png": "[encoded data removed]"
          },
          "metadata": {
            "needs_background": "light"
          }
        },
        {
          "output_type": "stream",
          "name": "stdout",
          "text": [
            "Final Loss: tensor(0.3177)\n"
          ]
        },
        {
          "output_type": "display_data",
          "data": {
            "text/plain": [
              "<Figure size 432x288 with 1 Axes>"
            ],
            "image/png": "[encoded data removed]"
          },
          "metadata": {
            "needs_background": "light"
          }
        },
        {
          "output_type": "stream",
          "name": "stdout",
          "text": [
            "Final Accuracy: 96.0\n"
          ]
        },
        {
          "output_type": "display_data",
          "data": {
            "text/plain": [
              "<Figure size 432x288 with 1 Axes>"
            ],
            "image/png": "[encoded data removed]"
          },
          "metadata": {
            "needs_background": "light"
          }
        },
        {
          "output_type": "stream",
          "name": "stdout",
          "text": [
            "Prediction Class Distribution\n",
            "(idx == 1)/100: tf.Tensor(0.0, shape=(), dtype=float64)\n",
            "(idx == 0)/100: tf.Tensor(1.0, shape=(), dtype=float64)\n"
          ]
        }
      ]
    },
    {
      "cell_type": "code",
      "source": [
        "y_true = labels\n",
        "y_pred = predicted\n",
        "print('ScikitLearn Accuracy', accuracy_score(y_true, y_pred))\n",
        "print('F1 Score', f1_score(y_true, y_pred))\n",
        "print('ROC AUC', roc_auc_score(y_true, y_pred))\n",
        "print('Precision', average_precision_score(y_true, y_pred))\n",
        "print('Recall', recall_score(y_true, y_pred))"
      ],
      "metadata": {
        "colab": {
          "base_uri": "https://localhost:8080/"
        },
        "id": "v_dDa8zz599Q",
        "outputId": "c45b0cc9-852c-40b6-9069-29b2af224614"
      },
      "execution_count": null,
      "outputs": [
        {
          "output_type": "stream",
          "name": "stdout",
          "text": [
            "ScikitLearn Accuracy 0.9\n",
            "F1 Score 0.0\n",
            "ROC AUC 0.5\n",
            "Precision 0.1\n",
            "Recall 0.0\n"
          ]
        }
      ]
    }
  ]
}